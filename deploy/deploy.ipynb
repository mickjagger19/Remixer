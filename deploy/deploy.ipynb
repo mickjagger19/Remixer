{
 "cells": [
  {
   "cell_type": "markdown",
   "metadata": {},
   "source": [
    "# Serverless Backend Setup using AWS Lambda\n",
    "\n",
    "Commented cells are meant to be run in the terminal separately"
   ]
  },
  {
   "cell_type": "markdown",
   "metadata": {},
   "source": [
    "## Imports"
   ]
  },
  {
   "cell_type": "code",
   "execution_count": null,
   "metadata": {},
   "outputs": [],
   "source": [
    "import json\n",
    "import os\n",
    "import requests\n",
    "from frontend import app"
   ]
  },
  {
   "cell_type": "markdown",
   "metadata": {},
   "source": [
    "## Build container image"
   ]
  },
  {
   "cell_type": "code",
   "execution_count": null,
   "metadata": {},
   "outputs": [],
   "source": [
    "os.environ[\"LAMBDA_NAME\"] = \"remixer-backend\"\n",
    "from constants import ROOT_DIR\n",
    "\n",
    "# change working dir to root\n",
    "os.chdir(ROOT_DIR)\n",
    "\n",
    "!docker build -t $LAMBDA_NAME.--file./Dockerfile  #--no-cache"
   ]
  },
  {
   "cell_type": "code",
   "execution_count": null,
   "metadata": {},
   "outputs": [],
   "source": [
    "# quick test\n",
    "access_key = os.environ[\"AWS_ACCESS_KEY\"]\n",
    "secret_access_key = os.environ[\"AWS_SECRET_ACCESS_KEY\"]\n",
    "!docker run -e AWS_ACCESS_KEY_ID=$access_key -e AWS_SECRET_ACCESS_KEY=$secret_access_key -d -p 9000:8080 $LAMBDA_NAME\\:latest \n",
    "!curl -XPOST \\\n",
    "    \"http://localhost:9000/2015-03-31/functions/function/invocations\" \\\n",
    "    -d '{\"genre\": \"jazz\"}'\n",
    "# !docker kill $(docker ps -q)"
   ]
  },
  {
   "cell_type": "markdown",
   "metadata": {},
   "source": [
    "## Upload to the container registry"
   ]
  },
  {
   "cell_type": "code",
   "execution_count": null,
   "metadata": {},
   "outputs": [],
   "source": [
    "import subprocess\n",
    "\n",
    "result = subprocess.run(['aws'], stdout=subprocess.PIPE, text=True)\n",
    "print(result.stdout)"
   ]
  },
  {
   "cell_type": "code",
   "execution_count": null,
   "metadata": {},
   "outputs": [],
   "source": [
    "# import awscli.utils, awscli.clidriver\n",
    "# from awscli import *\n",
    "# client = awscli.clidriver.create_clidriver()\n",
    "# aws_account_id = utils.get_account_id(clinet)\n",
    "aws_account_id = !aws sts get-caller-identity \\\n",
    "    --query \"Account\"\n",
    "if aws_account_id:\n",
    "    aws_account_id = str(aws_account_id[0])\n",
    "    aws_account_id = aws_account_id.strip(\"\\\"\")\n",
    "\n",
    "aws_region = !aws configure get region\n",
    "if aws_region:\n",
    "    aws_region = str(aws_region[0])\n",
    "\n",
    "os.environ[\"AWS_REGION\"] = aws_region\n",
    "os.environ[\"AWS_ACCOUNT_ID\"] = aws_account_id.strip('\"')\n",
    "\n",
    "!echo $AWS_ACCOUNT_ID\n",
    "!echo $AWS_REGION"
   ]
  },
  {
   "cell_type": "code",
   "execution_count": null,
   "metadata": {},
   "outputs": [],
   "source": [
    "os.environ[\"ECR_URI\"] = \".\".join(\n",
    "    [aws_account_id, \"dkr\", \"ecr\", aws_region, \"amazonaws.com\"])\n",
    "\n",
    "!echo $ECR_URI"
   ]
  },
  {
   "cell_type": "code",
   "execution_count": null,
   "metadata": {},
   "outputs": [],
   "source": [
    "!aws ecr get-login-password --region $AWS_REGION \\\n",
    "    | docker login --username AWS --password-stdin $ECR_URI"
   ]
  },
  {
   "cell_type": "code",
   "execution_count": null,
   "metadata": {},
   "outputs": [],
   "source": [
    "!aws ecr create-repository \\\n",
    "    --repository-name $LAMBDA_NAME \\\n",
    "    --image-scanning-configuration scanOnPush=true --image-tag-mutability MUTABLE \\\n",
    "    | jq -C"
   ]
  },
  {
   "cell_type": "code",
   "execution_count": null,
   "metadata": {},
   "outputs": [],
   "source": [
    "os.environ[\"IMAGE_URI\"] = \"/\".join([os.environ[\"ECR_URI\"], os.environ[\"LAMBDA_NAME\"]])"
   ]
  },
  {
   "cell_type": "code",
   "execution_count": null,
   "metadata": {},
   "outputs": [],
   "source": [
    "!docker tag $LAMBDA_NAME\\:latest $IMAGE_URI\\:latest"
   ]
  },
  {
   "cell_type": "code",
   "execution_count": null,
   "metadata": {},
   "outputs": [],
   "source": [
    "!docker push $IMAGE_URI\\:latest"
   ]
  },
  {
   "cell_type": "markdown",
   "metadata": {},
   "source": [
    "## Create a Lambda function"
   ]
  },
  {
   "cell_type": "code",
   "execution_count": null,
   "metadata": {},
   "outputs": [],
   "source": [
    "os.environ[\"LAMBDA_ROLE_NAME\"] = \"lambda-role\""
   ]
  },
  {
   "cell_type": "code",
   "execution_count": null,
   "metadata": {},
   "outputs": [],
   "source": [
    "!aws iam create-role \\\n",
    "    --role-name $LAMBDA_ROLE_NAME \\\n",
    "    --assume-role-policy-document '{\"Version\": \"2012-10-17\", \"Statement\": [{\"Effect\": \"Allow\", \"Principal\": {\"Service\": \"lambda.amazonaws.com\"}, \"Action\": \"sts:AssumeRole\"}]}' \\\n",
    "    | jq -C"
   ]
  },
  {
   "cell_type": "code",
   "execution_count": null,
   "metadata": {},
   "outputs": [],
   "source": [
    "lambda_role_arn, = !aws iam get-role --role-name $LAMBDA_ROLE_NAME --output json | jq -r '.Role.Arn'\n",
    "lambda_role_arn = lambda_role_arn.strip('\"')\n",
    "\n",
    "os.environ[\"LAMBDA_ROLE_ARN\"] = lambda_role_arn\n",
    "!echo $LAMBDA_ROLE_ARN"
   ]
  },
  {
   "cell_type": "code",
   "execution_count": null,
   "metadata": {},
   "outputs": [],
   "source": [
    "# allow this IAM role to execute Lambdas\n",
    "!aws iam attach-role-policy \\\n",
    "    --role-name $LAMBDA_ROLE_NAME \\\n",
    "    --policy-arn arn:aws:iam::aws:policy/service-role/AWSLambdaBasicExecutionRole"
   ]
  },
  {
   "cell_type": "code",
   "execution_count": null,
   "metadata": {},
   "outputs": [],
   "source": [
    "# allow this IAM role to write to logs -- required and also important for debugging Lambdas\n",
    "!aws iam attach-role-policy \\\n",
    "    --role-name $LAMBDA_ROLE_NAME \\\n",
    "    --policy-arn arn:aws:iam::aws:policy/AWSXRayDaemonWriteAccess"
   ]
  },
  {
   "cell_type": "code",
   "execution_count": null,
   "metadata": {},
   "outputs": [],
   "source": [
    "!aws lambda create-function \\\n",
    "    --function-name $LAMBDA_NAME \\\n",
    "    --region $AWS_REGION \\\n",
    "    --package-type Image \\\n",
    "    --code ImageUri=$IMAGE_URI:latest \\\n",
    "    --role $LAMBDA_ROLE_ARN | jq -C"
   ]
  },
  {
   "cell_type": "code",
   "execution_count": null,
   "metadata": {},
   "outputs": [],
   "source": [
    "!aws lambda update-function-configuration \\\n",
    "    --function-name $LAMBDA_NAME \\\n",
    "    --region $AWS_REGION \\\n",
    "    --timeout 60 \\\n",
    "    --memory-size 10240 | jq -C"
   ]
  },
  {
   "cell_type": "code",
   "execution_count": null,
   "metadata": {},
   "outputs": [],
   "source": [
    "!aws lambda invoke \\\n",
    "    --function-name $LAMBDA_NAME \\\n",
    "    --invocation-type RequestResponse \\\n",
    "    --payload '{\"image_url\": \"./remixer/tests/support/images/img.jpg\", \"question\": \"What color is my hair\"}' \\\n",
    "    --cli-binary-format raw- in -base64-out lambda.out | jq -C\n",
    "\n",
    "!cat lambda.out"
   ]
  },
  {
   "cell_type": "markdown",
   "metadata": {},
   "source": [
    "## Add an HTTP endpoint with a URL"
   ]
  },
  {
   "cell_type": "code",
   "execution_count": null,
   "metadata": {},
   "outputs": [],
   "source": [
    "!aws lambda create-function-url-config \\\n",
    "    --function-name $LAMBDA_NAME \\\n",
    "    --auth-type NONE \\\n",
    "    --cors '{\"AllowOrigins\": [\"*\"], \"AllowCredentials\": false}' \\\n",
    "    | jq -C"
   ]
  },
  {
   "cell_type": "code",
   "execution_count": null,
   "metadata": {},
   "outputs": [],
   "source": [
    "# Careful here!!!\n",
    "# \"\"\"\n",
    "!aws lambda add-permission \\\n",
    "    --function-name $LAMBDA_NAME \\\n",
    "    --action lambda:invokeFunctionUrl \\\n",
    "    --statement-id \"open-access\" \\\n",
    "    --principal \"*\" \\\n",
    "    --function-url-auth-type NONE | jq -C\n",
    "# \"\"\""
   ]
  },
  {
   "cell_type": "code",
   "execution_count": null,
   "metadata": {},
   "outputs": [],
   "source": [
    "lambda_url, = !aws lambda get-function-url-config --function-name $LAMBDA_NAME | jq.FunctionUrl\n",
    "lambda_url = lambda_url.strip('\"')\n",
    "\n",
    "lambda_url"
   ]
  },
  {
   "cell_type": "code",
   "execution_count": null,
   "metadata": {},
   "outputs": [],
   "source": [
    "image_url = \"./remixer/tests/support/images/img.jpg\"\n",
    "question_path = \"./remixer/tests/support/questions/question.txt\"\n",
    "with open(question_path, \"r\") as f: question = f.readline()\n",
    "\n",
    "headers = {\"Content-type\": \"application/json\"}\n",
    "payload = json.dumps({\"image_url\": image_url, \"question\": question})\n",
    "\n",
    "response = requests.post(\n",
    "    lambda_url, data=payload, headers=headers)\n",
    "pred = response.json()[\"pred\"]\n",
    "\n",
    "print(pred)"
   ]
  },
  {
   "cell_type": "markdown",
   "metadata": {},
   "source": [
    "## Connect AWS with Gradio"
   ]
  },
  {
   "cell_type": "code",
   "execution_count": null,
   "metadata": {},
   "outputs": [],
   "source": [
    "serverless_backend = app.PredictorBackend(url=lambda_url)"
   ]
  },
  {
   "cell_type": "code",
   "execution_count": null,
   "metadata": {},
   "outputs": [],
   "source": [
    "frontend_serverless_backend = app.make_frontend(serverless_backend.run, flagging=True)\n",
    "frontend_serverless_backend.launch(share=True)"
   ]
  },
  {
   "cell_type": "code",
   "execution_count": null,
   "metadata": {},
   "outputs": [],
   "source": [
    "frontend_serverless_backend.close()"
   ]
  }
 ],
 "metadata": {
  "kernelspec": {
   "display_name": "Python 3.7.13 64-bit ('remixer')",
   "language": "python",
   "name": "python3"
  },
  "language_info": {
   "codemirror_mode": {
    "name": "ipython",
    "version": 3
   },
   "file_extension": ".py",
   "mimetype": "text/x-python",
   "name": "python",
   "nbconvert_exporter": "python",
   "pygments_lexer": "ipython3",
   "version": "3.7.13"
  },
  "orig_nbformat": 4,
  "vscode": {
   "interpreter": {
    "hash": "4c4de3d17692a4fce36158e1e6b4cc65d2c1c1dbb8a445fcd77e7a07c1299f79"
   }
  }
 },
 "nbformat": 4,
 "nbformat_minor": 2
}
