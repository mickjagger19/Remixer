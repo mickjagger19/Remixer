{
 "cells": [
  {
   "cell_type": "code",
   "execution_count": null,
   "id": "initial_id",
   "metadata": {
    "collapsed": true
   },
   "outputs": [],
   "source": [
    "from frontend import app\n",
    "\n",
    "vae_path = '/root/autodl-tmp/remixer/training/artifacts/AutoencoderKL:v1/model_epoch_0.pth'\n",
    "model_path = '/root/autodl-tmp/remixer/training/artifacts/VQGenerator:v1/model_epoch_0.pth'\n",
    "app.deploy((vae_path, model_path))"
   ]
  },
  {
   "cell_type": "code",
   "execution_count": null,
   "outputs": [],
   "source": [],
   "metadata": {
    "collapsed": false
   },
   "id": "dee481b1bc38d21c"
  }
 ],
 "metadata": {
  "kernelspec": {
   "display_name": "Python 3",
   "language": "python",
   "name": "python3"
  },
  "language_info": {
   "codemirror_mode": {
    "name": "ipython",
    "version": 2
   },
   "file_extension": ".py",
   "mimetype": "text/x-python",
   "name": "python",
   "nbconvert_exporter": "python",
   "pygments_lexer": "ipython2",
   "version": "2.7.6"
  }
 },
 "nbformat": 4,
 "nbformat_minor": 5
}
