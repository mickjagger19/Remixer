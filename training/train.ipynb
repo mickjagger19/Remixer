{
 "cells": [
  {
   "cell_type": "code",
   "execution_count": 1,
   "id": "initial_id",
   "metadata": {
    "collapsed": true,
    "ExecuteTime": {
     "end_time": "2023-12-02T15:30:02.928203Z",
     "start_time": "2023-12-02T15:29:56.636847Z"
    }
   },
   "outputs": [
    {
     "name": "stdout",
     "output_type": "stream",
     "text": [
      "Configuration already exists at ~/.cache/huggingface/accelerate/default_config.yaml, will not override. Run `accelerate config` manually or pass a different `save_location`.\n"
     ]
    },
    {
     "name": "stderr",
     "output_type": "stream",
     "text": [
      "\u001B[34m\u001B[1mwandb\u001B[0m: Currently logged in as: \u001B[33mmickjagger19\u001B[0m. Use \u001B[1m`wandb login --relogin`\u001B[0m to force relogin\n",
      "\u001B[34m\u001B[1mwandb\u001B[0m: \u001B[33mWARNING\u001B[0m Disabling SSL verification.  Connections to this server are not verified and may be insecure!\n"
     ]
    },
    {
     "name": "stdout",
     "output_type": "stream",
     "text": [
      "{}\n"
     ]
    }
   ],
   "source": [
    "from accelerate import notebook_launcher\n",
    "\n",
    "from core.utils import *\n",
    "from train import *\n",
    "\n",
    "os.environ['WANDB_NOTEBOOK_NAME'] = str(pathlib.Path().absolute())\n",
    "from accelerate.utils import write_basic_config\n",
    "\n",
    "write_basic_config(mixed_precision=\"no\", save_location='~/.cache/huggingface/accelerate/default_config.yaml')\n",
    "config = TrainingConfig()\n",
    "\n",
    "init(False)\n",
    "print(accelerate.accelerator.AcceleratorState._shared_state)\n",
    "\n",
    "\n",
    "def launch(x, args):\n",
    "    os.environ[\"NCCL_P2P_DISABLE\"] = \"1\"\n",
    "    os.environ[\"NCCL_IB_DISABLE\"] = \"1\"\n",
    "    notebook_launcher(x, args=args, num_processes=2)"
   ]
  },
  {
   "cell_type": "markdown",
   "source": [
    "## Train VAE"
   ],
   "metadata": {
    "collapsed": false
   },
   "id": "f472bcc58ff7bea3"
  },
  {
   "cell_type": "code",
   "execution_count": 2,
   "outputs": [
    {
     "name": "stdout",
     "output_type": "stream",
     "text": [
      "Launching training on 2 GPUs.\n"
     ]
    },
    {
     "name": "stderr",
     "output_type": "stream",
     "text": [
      "\u001B[34m\u001B[1mwandb\u001B[0m: \u001B[33mWARNING\u001B[0m Disabling SSL verification.  Connections to this server are not verified and may be insecure!\n"
     ]
    },
    {
     "data": {
      "text/plain": "<IPython.core.display.HTML object>",
      "text/html": "Changes to your `wandb` environment variables will be ignored because your `wandb` session has already started. For more information on how to modify your settings with `wandb.init()` arguments, please refer to <a href='https://wandb.me/wandb-init' target=\"_blank\">the W&B docs</a>."
     },
     "metadata": {},
     "output_type": "display_data"
    },
    {
     "data": {
      "text/plain": "VBox(children=(Label(value='Waiting for wandb.init()...\\r'), FloatProgress(value=0.011113020198212729, max=1.0…",
      "application/vnd.jupyter.widget-view+json": {
       "version_major": 2,
       "version_minor": 0,
       "model_id": "fd6ac4c9a7a94733ad94961b9a7b4545"
      }
     },
     "metadata": {},
     "output_type": "display_data"
    },
    {
     "data": {
      "text/plain": "<IPython.core.display.HTML object>",
      "text/html": "Tracking run with wandb version 0.16.0"
     },
     "metadata": {},
     "output_type": "display_data"
    },
    {
     "data": {
      "text/plain": "<IPython.core.display.HTML object>",
      "text/html": "Run data is saved locally in <code>/root/autodl-tmp/remixer/training/wandb/run-20231202_233005-24f9fvcb</code>"
     },
     "metadata": {},
     "output_type": "display_data"
    },
    {
     "data": {
      "text/plain": "<IPython.core.display.HTML object>",
      "text/html": "Syncing run <strong><a href='https://wandb.ai/mickjagger19/Remixer/runs/24f9fvcb' target=\"_blank\">stellar-monkey-294</a></strong> to <a href='https://wandb.ai/mickjagger19/Remixer' target=\"_blank\">Weights & Biases</a> (<a href='https://wandb.me/run' target=\"_blank\">docs</a>)<br/>"
     },
     "metadata": {},
     "output_type": "display_data"
    },
    {
     "data": {
      "text/plain": "<IPython.core.display.HTML object>",
      "text/html": " View project at <a href='https://wandb.ai/mickjagger19/Remixer' target=\"_blank\">https://wandb.ai/mickjagger19/Remixer</a>"
     },
     "metadata": {},
     "output_type": "display_data"
    },
    {
     "data": {
      "text/plain": "<IPython.core.display.HTML object>",
      "text/html": " View run at <a href='https://wandb.ai/mickjagger19/Remixer/runs/24f9fvcb' target=\"_blank\">https://wandb.ai/mickjagger19/Remixer/runs/24f9fvcb</a>"
     },
     "metadata": {},
     "output_type": "display_data"
    },
    {
     "name": "stderr",
     "output_type": "stream",
     "text": [
      "Epoch 0: 100%|██████████| 46/46 [01:43<00:00,  2.26s/it, loss=3.1e+3, lr=1.84e-5, step=45] \n",
      "Epoch 1: 100%|██████████| 46/46 [01:41<00:00,  2.22s/it, loss=3e+3, lr=3.68e-5, step=91]   \n",
      "Epoch 2: 100%|██████████| 46/46 [01:42<00:00,  2.23s/it, loss=2.85e+3, lr=5.52e-5, step=137]\n",
      "Epoch 3: 100%|██████████| 46/46 [01:39<00:00,  2.17s/it, loss=2.65e+3, lr=7.36e-5, step=183]\n",
      "Epoch 4: 100%|██████████| 46/46 [01:44<00:00,  2.27s/it, loss=2.41e+3, lr=9.2e-5, step=229] \n",
      "Epoch 5: 100%|██████████| 46/46 [01:42<00:00,  2.23s/it, loss=2.15e+3, lr=9.61e-5, step=275]\n",
      "Epoch 6: 100%|██████████| 46/46 [01:42<00:00,  2.22s/it, loss=1.94e+3, lr=7.25e-5, step=321]\n",
      "Epoch 7: 100%|██████████| 46/46 [01:46<00:00,  2.31s/it, loss=1.82e+3, lr=3.82e-5, step=367]\n",
      "Epoch 8: 100%|██████████| 46/46 [01:44<00:00,  2.27s/it, loss=1.77e+3, lr=9.55e-6, step=413]\n",
      "Epoch 9: 100%|██████████| 46/46 [01:13<00:00,  1.47it/s, loss=1.76e+3, lr=1.47e-7, step=459]"
     ]
    },
    {
     "name": "stdout",
     "output_type": "stream",
     "text": [
      "num_params=1009\n",
      "num_params=1009"
     ]
    },
    {
     "name": "stderr",
     "output_type": "stream",
     "text": [
      "Epoch 9: 100%|██████████| 46/46 [01:14<00:00,  1.62s/it, loss=1.76e+3, lr=1.47e-7, step=459]"
     ]
    },
    {
     "name": "stdout",
     "output_type": "stream",
     "text": []
    },
    {
     "name": "stderr",
     "output_type": "stream",
     "text": [
      "\n"
     ]
    }
   ],
   "source": [
    "vae_config = TrainingConfig()\n",
    "vae_config.train_batch_size = 11\n",
    "vae_config.num_epochs = 10\n",
    "vae_config.save_model_epochs = 4\n",
    "os.environ[\"NCCL_P2P_DISABLE\"] = \"1\"\n",
    "os.environ[\"NCCL_IB_DISABLE\"] = \"1\"\n",
    "launch(\n",
    "    train_vae, (vae_config, True, None))"
   ],
   "metadata": {
    "collapsed": false,
    "ExecuteTime": {
     "end_time": "2023-12-02T15:46:51.901663Z",
     "start_time": "2023-12-02T15:30:03.817340Z"
    }
   },
   "id": "a4f455aab3807fa2"
  },
  {
   "cell_type": "markdown",
   "source": [
    "\n",
    "## Train Diffusion"
   ],
   "metadata": {
    "collapsed": false
   },
   "id": "dd7922fe12fc983a"
  },
  {
   "cell_type": "code",
   "execution_count": 3,
   "outputs": [
    {
     "name": "stdout",
     "output_type": "stream",
     "text": [
      "Launching training on one GPU.\n"
     ]
    },
    {
     "ename": "NameError",
     "evalue": "name 'wandb' is not defined",
     "output_type": "error",
     "traceback": [
      "\u001B[0;31m---------------------------------------------------------------------------\u001B[0m",
      "\u001B[0;31mNameError\u001B[0m                                 Traceback (most recent call last)",
      "\u001B[0;32m/tmp/ipykernel_27468/1358531951.py\u001B[0m in \u001B[0;36m<cell line: 3>\u001B[0;34m()\u001B[0m\n\u001B[1;32m      1\u001B[0m \u001B[0mdiffusion_config\u001B[0m \u001B[0;34m=\u001B[0m \u001B[0mTrainingConfig\u001B[0m\u001B[0;34m(\u001B[0m\u001B[0;34m)\u001B[0m\u001B[0;34m\u001B[0m\u001B[0;34m\u001B[0m\u001B[0m\n\u001B[1;32m      2\u001B[0m \u001B[0mdiffusion_config\u001B[0m\u001B[0;34m.\u001B[0m\u001B[0mtrain_batch_size\u001B[0m \u001B[0;34m=\u001B[0m \u001B[0;36m1\u001B[0m\u001B[0;34m\u001B[0m\u001B[0;34m\u001B[0m\u001B[0m\n\u001B[0;32m----> 3\u001B[0;31m \u001B[0mlaunch\u001B[0m\u001B[0;34m(\u001B[0m\u001B[0mtrain_diffusion\u001B[0m\u001B[0;34m,\u001B[0m \u001B[0;34m(\u001B[0m\u001B[0mdiffusion_config\u001B[0m\u001B[0;34m,\u001B[0m\u001B[0;34m)\u001B[0m\u001B[0;34m)\u001B[0m\u001B[0;34m\u001B[0m\u001B[0;34m\u001B[0m\u001B[0m\n\u001B[0m",
      "\u001B[0;32m/tmp/ipykernel_27468/125179507.py\u001B[0m in \u001B[0;36mlaunch\u001B[0;34m(x, args)\u001B[0m\n\u001B[1;32m     14\u001B[0m \u001B[0;34m\u001B[0m\u001B[0m\n\u001B[1;32m     15\u001B[0m \u001B[0;32mdef\u001B[0m \u001B[0mlaunch\u001B[0m\u001B[0;34m(\u001B[0m\u001B[0mx\u001B[0m\u001B[0;34m,\u001B[0m \u001B[0margs\u001B[0m\u001B[0;34m)\u001B[0m\u001B[0;34m:\u001B[0m\u001B[0;34m\u001B[0m\u001B[0;34m\u001B[0m\u001B[0m\n\u001B[0;32m---> 16\u001B[0;31m     \u001B[0mnotebook_launcher\u001B[0m\u001B[0;34m(\u001B[0m\u001B[0mx\u001B[0m\u001B[0;34m,\u001B[0m \u001B[0margs\u001B[0m\u001B[0;34m=\u001B[0m\u001B[0margs\u001B[0m\u001B[0;34m,\u001B[0m \u001B[0mnum_processes\u001B[0m\u001B[0;34m=\u001B[0m\u001B[0;36m1\u001B[0m\u001B[0;34m)\u001B[0m\u001B[0;34m\u001B[0m\u001B[0;34m\u001B[0m\u001B[0m\n\u001B[0m",
      "\u001B[0;32m~/miniconda3/envs/remixer/lib/python3.8/site-packages/accelerate/launchers.py\u001B[0m in \u001B[0;36mnotebook_launcher\u001B[0;34m(function, args, num_processes, mixed_precision, use_port, master_addr, node_rank, num_nodes)\u001B[0m\n\u001B[1;32m    194\u001B[0m             \u001B[0;32melse\u001B[0m\u001B[0;34m:\u001B[0m\u001B[0;34m\u001B[0m\u001B[0;34m\u001B[0m\u001B[0m\n\u001B[1;32m    195\u001B[0m                 \u001B[0mprint\u001B[0m\u001B[0;34m(\u001B[0m\u001B[0;34m\"Launching training on CPU.\"\u001B[0m\u001B[0;34m)\u001B[0m\u001B[0;34m\u001B[0m\u001B[0;34m\u001B[0m\u001B[0m\n\u001B[0;32m--> 196\u001B[0;31m             \u001B[0mfunction\u001B[0m\u001B[0;34m(\u001B[0m\u001B[0;34m*\u001B[0m\u001B[0margs\u001B[0m\u001B[0;34m)\u001B[0m\u001B[0;34m\u001B[0m\u001B[0;34m\u001B[0m\u001B[0m\n\u001B[0m\u001B[1;32m    197\u001B[0m \u001B[0;34m\u001B[0m\u001B[0m\n\u001B[1;32m    198\u001B[0m \u001B[0;34m\u001B[0m\u001B[0m\n",
      "\u001B[0;32m~/autodl-tmp/remixer/training/train.py\u001B[0m in \u001B[0;36mtrain_diffusion\u001B[0;34m(config)\u001B[0m\n\u001B[1;32m    236\u001B[0m     \u001B[0;34m[\u001B[0m\u001B[0mtrain_dl\u001B[0m\u001B[0;34m,\u001B[0m \u001B[0mval_dl\u001B[0m\u001B[0;34m,\u001B[0m \u001B[0mtest_dl\u001B[0m\u001B[0;34m]\u001B[0m \u001B[0;34m=\u001B[0m \u001B[0mprepare_dataloaders\u001B[0m\u001B[0;34m(\u001B[0m\u001B[0;34m[\u001B[0m\u001B[0;34m'gtzan'\u001B[0m\u001B[0;34m]\u001B[0m\u001B[0;34m,\u001B[0m \u001B[0mconfig\u001B[0m\u001B[0;34m.\u001B[0m\u001B[0mratios\u001B[0m\u001B[0;34m,\u001B[0m \u001B[0mconfig\u001B[0m\u001B[0;34m.\u001B[0m\u001B[0mtrain_batch_size\u001B[0m\u001B[0;34m)\u001B[0m\u001B[0;34m\u001B[0m\u001B[0;34m\u001B[0m\u001B[0m\n\u001B[1;32m    237\u001B[0m \u001B[0;34m\u001B[0m\u001B[0m\n\u001B[0;32m--> 238\u001B[0;31m     \u001B[0maccelerator\u001B[0m \u001B[0;34m=\u001B[0m \u001B[0mbuild_accelerator\u001B[0m\u001B[0;34m(\u001B[0m\u001B[0mconfig\u001B[0m\u001B[0;34m)\u001B[0m\u001B[0;34m\u001B[0m\u001B[0;34m\u001B[0m\u001B[0m\n\u001B[0m\u001B[1;32m    239\u001B[0m \u001B[0;34m\u001B[0m\u001B[0m\n\u001B[1;32m    240\u001B[0m     \u001B[0mmodel\u001B[0m\u001B[0;34m,\u001B[0m \u001B[0moptimizer\u001B[0m\u001B[0;34m,\u001B[0m \u001B[0mlr_scheduler\u001B[0m \u001B[0;34m=\u001B[0m \u001B[0mprepare_models\u001B[0m\u001B[0;34m(\u001B[0m\u001B[0mVQGenerator\u001B[0m\u001B[0;34m,\u001B[0m \u001B[0mconfig\u001B[0m\u001B[0;34m,\u001B[0m \u001B[0mlen\u001B[0m\u001B[0;34m(\u001B[0m\u001B[0mtrain_dl\u001B[0m\u001B[0;34m)\u001B[0m\u001B[0;34m)\u001B[0m\u001B[0;34m\u001B[0m\u001B[0;34m\u001B[0m\u001B[0m\n",
      "\u001B[0;32m~/autodl-tmp/remixer/training/test_model.py\u001B[0m in \u001B[0;36mbuild_accelerator\u001B[0;34m(config, use_wandb)\u001B[0m\n\u001B[1;32m     29\u001B[0m             \u001B[0mos\u001B[0m\u001B[0;34m.\u001B[0m\u001B[0mmakedirs\u001B[0m\u001B[0;34m(\u001B[0m\u001B[0mconfig\u001B[0m\u001B[0;34m.\u001B[0m\u001B[0moutput_dir\u001B[0m\u001B[0;34m,\u001B[0m \u001B[0mexist_ok\u001B[0m\u001B[0;34m=\u001B[0m\u001B[0;32mTrue\u001B[0m\u001B[0;34m)\u001B[0m\u001B[0;34m\u001B[0m\u001B[0;34m\u001B[0m\u001B[0m\n\u001B[1;32m     30\u001B[0m         \u001B[0;32mif\u001B[0m \u001B[0muse_wandb\u001B[0m\u001B[0;34m:\u001B[0m\u001B[0;34m\u001B[0m\u001B[0;34m\u001B[0m\u001B[0m\n\u001B[0;32m---> 31\u001B[0;31m             \u001B[0;32mimport\u001B[0m \u001B[0mwandb\u001B[0m\u001B[0;34m\u001B[0m\u001B[0;34m\u001B[0m\u001B[0m\n\u001B[0m\u001B[1;32m     32\u001B[0m             \u001B[0mwandb\u001B[0m\u001B[0;34m.\u001B[0m\u001B[0mapis\u001B[0m\u001B[0;34m.\u001B[0m\u001B[0m_disable_ssl\u001B[0m\u001B[0;34m(\u001B[0m\u001B[0;34m)\u001B[0m\u001B[0;34m\u001B[0m\u001B[0;34m\u001B[0m\u001B[0m\n\u001B[1;32m     33\u001B[0m             \u001B[0;31m# wandb.login(relogin=True)\u001B[0m\u001B[0;34m\u001B[0m\u001B[0;34m\u001B[0m\u001B[0;34m\u001B[0m\u001B[0m\n",
      "\u001B[0;31mNameError\u001B[0m: name 'wandb' is not defined"
     ]
    }
   ],
   "source": [
    "diffusion_config = TrainingConfig()\n",
    "diffusion_config.train_batch_size = 1\n",
    "launch(train_diffusion, (diffusion_config,))"
   ],
   "metadata": {
    "collapsed": false,
    "ExecuteTime": {
     "end_time": "2023-12-02T11:58:14.260765Z",
     "start_time": "2023-12-02T11:58:14.132259Z"
    }
   },
   "id": "7d6e9be7dd697f98"
  },
  {
   "cell_type": "markdown",
   "source": [
    "## Test"
   ],
   "metadata": {
    "collapsed": false
   },
   "id": "35aa16e3aa4ed015"
  },
  {
   "cell_type": "code",
   "execution_count": 2,
   "outputs": [
    {
     "name": "stdout",
     "output_type": "stream",
     "text": [
      "loading /root/autodl-tmp/remixer/training/artifacts/VQGenerator:v1/model_epoch_0.pth\n",
      "loading /root/autodl-tmp/remixer/training/artifacts/AutoencoderKL:v1/model_epoch_0.pth\n"
     ]
    },
    {
     "data": {
      "text/plain": "  0%|          | 0/1000 [00:00<?, ?it/s]",
      "application/vnd.jupyter.widget-view+json": {
       "version_major": 2,
       "version_minor": 0,
       "model_id": "e70a318035ab45ae83eefc58feac5a1c"
      }
     },
     "metadata": {},
     "output_type": "display_data"
    },
    {
     "name": "stdout",
     "output_type": "stream",
     "text": [
      "True\n"
     ]
    },
    {
     "ename": "ParameterError",
     "evalue": "Audio buffer is not finite everywhere",
     "output_type": "error",
     "traceback": [
      "\u001B[0;31m---------------------------------------------------------------------------\u001B[0m",
      "\u001B[0;31mParameterError\u001B[0m                            Traceback (most recent call last)",
      "Cell \u001B[0;32mIn[2], line 8\u001B[0m\n\u001B[1;32m      3\u001B[0m \u001B[38;5;28;01mimport\u001B[39;00m \u001B[38;5;21;01mgc\u001B[39;00m\n\u001B[1;32m      7\u001B[0m \u001B[38;5;66;03m# wandb.init()\u001B[39;00m\n\u001B[0;32m----> 8\u001B[0m S, img \u001B[38;5;241m=\u001B[39m \u001B[43mgenerate_from_genre\u001B[49m\u001B[43m(\u001B[49m\u001B[38;5;124;43m'\u001B[39;49m\u001B[38;5;124;43mjazz\u001B[39;49m\u001B[38;5;124;43m'\u001B[39;49m\u001B[43m,\u001B[49m\n\u001B[1;32m      9\u001B[0m \u001B[43m                             \u001B[49m\u001B[43mvae_path\u001B[49m\u001B[38;5;241;43m=\u001B[39;49m\u001B[38;5;124;43m'\u001B[39;49m\u001B[38;5;124;43m/root/autodl-tmp/remixer/training/artifacts/AutoencoderKL:v1/model_epoch_0.pth\u001B[39;49m\u001B[38;5;124;43m'\u001B[39;49m\u001B[43m,\u001B[49m\n\u001B[1;32m     10\u001B[0m \u001B[43m                             \u001B[49m\u001B[43mgenerator_path\u001B[49m\u001B[38;5;241;43m=\u001B[39;49m\u001B[38;5;124;43m'\u001B[39;49m\u001B[38;5;124;43m/root/autodl-tmp/remixer/training/artifacts/VQGenerator:v1/model_epoch_0.pth\u001B[39;49m\u001B[38;5;124;43m'\u001B[39;49m\u001B[43m)\u001B[49m\n\u001B[1;32m     12\u001B[0m make_grid([img], \u001B[38;5;241m1\u001B[39m)\n\u001B[1;32m     13\u001B[0m gc\u001B[38;5;241m.\u001B[39mcollect()\n",
      "File \u001B[0;32m~/autodl-tmp/remixer/training/test_model.py:76\u001B[0m, in \u001B[0;36mgenerate_from_genre\u001B[0;34m(genre, vae_path, generator_path)\u001B[0m\n\u001B[1;32m     73\u001B[0m pipeline\u001B[38;5;241m.\u001B[39mgenerator \u001B[38;5;241m=\u001B[39m generator\n\u001B[1;32m     74\u001B[0m pipeline\u001B[38;5;241m.\u001B[39mvae \u001B[38;5;241m=\u001B[39m vae\n\u001B[0;32m---> 76\u001B[0m output, _audio, img \u001B[38;5;241m=\u001B[39m \u001B[43mserve_request\u001B[49m\u001B[43m(\u001B[49m\u001B[43mgenre\u001B[49m\u001B[38;5;241;43m=\u001B[39;49m\u001B[43mgenre\u001B[49m\u001B[43m,\u001B[49m\u001B[43m \u001B[49m\u001B[43mcontent\u001B[49m\u001B[38;5;241;43m=\u001B[39;49m\u001B[38;5;28;43;01mNone\u001B[39;49;00m\u001B[43m,\u001B[49m\u001B[43m \u001B[49m\u001B[43mstyle\u001B[49m\u001B[38;5;241;43m=\u001B[39;49m\u001B[38;5;28;43;01mNone\u001B[39;49;00m\u001B[43m,\u001B[49m\u001B[43m \u001B[49m\u001B[43mpipeline\u001B[49m\u001B[38;5;241;43m=\u001B[39;49m\u001B[43mpipeline\u001B[49m\u001B[43m)\u001B[49m\n\u001B[1;32m     78\u001B[0m \u001B[38;5;28;01mreturn\u001B[39;00m output, img\n",
      "File \u001B[0;32m~/autodl-tmp/remixer/core/utils.py:101\u001B[0m, in \u001B[0;36mserve_request\u001B[0;34m(genre, content, style, pipeline)\u001B[0m\n\u001B[1;32m     97\u001B[0m     \u001B[38;5;28;01mreturn\u001B[39;00m \u001B[38;5;28;01mNone\u001B[39;00m\n\u001B[1;32m     99\u001B[0m \u001B[38;5;28;01mif\u001B[39;00m \u001B[38;5;129;01mnot\u001B[39;00m content:\n\u001B[1;32m    100\u001B[0m     \u001B[38;5;66;03m# perform random generation from genre\u001B[39;00m\n\u001B[0;32m--> 101\u001B[0m     output, audio, image \u001B[38;5;241m=\u001B[39m \u001B[43mpipeline\u001B[49m\u001B[38;5;241;43m.\u001B[39;49m\u001B[43mgenerate_audio\u001B[49m\u001B[43m(\u001B[49m\u001B[43mgenre\u001B[49m\u001B[43m)\u001B[49m\n\u001B[1;32m    102\u001B[0m     \u001B[38;5;28;01mreturn\u001B[39;00m output, audio, image\n\u001B[1;32m    104\u001B[0m \u001B[38;5;28;01mif\u001B[39;00m style \u001B[38;5;129;01mand\u001B[39;00m content:\n\u001B[1;32m    105\u001B[0m     \u001B[38;5;66;03m# perform style transfer(remix)\u001B[39;00m\n",
      "File \u001B[0;32m~/autodl-tmp/remixer/core/models/VQ_VAE.py:251\u001B[0m, in \u001B[0;36mDiTPipeline.generate_audio\u001B[0;34m(self, genre, desired_width, config)\u001B[0m\n\u001B[1;32m    248\u001B[0m feature \u001B[38;5;241m=\u001B[39m numpy\u001B[38;5;241m.\u001B[39msqueeze(feature)\n\u001B[1;32m    250\u001B[0m file_name \u001B[38;5;241m=\u001B[39m utils\u001B[38;5;241m.\u001B[39mget_sample_file_path(genre, config)\n\u001B[0;32m--> 251\u001B[0m \u001B[38;5;28;01mreturn\u001B[39;00m \u001B[43mutils\u001B[49m\u001B[38;5;241;43m.\u001B[39;49m\u001B[43mfeature_to_audio\u001B[49m\u001B[43m(\u001B[49m\u001B[43mfeature\u001B[49m\u001B[43m,\u001B[49m\u001B[43m \u001B[49m\u001B[43mfile_name\u001B[49m\u001B[43m,\u001B[49m\u001B[43m \u001B[49m\u001B[43mconfig\u001B[49m\u001B[38;5;241;43m.\u001B[39;49m\u001B[43mpreprocessing\u001B[49m\u001B[43m)\u001B[49m\n",
      "File \u001B[0;32m~/autodl-tmp/remixer/core/utils.py:156\u001B[0m, in \u001B[0;36mfeature_to_audio\u001B[0;34m(f, name, config)\u001B[0m\n\u001B[1;32m    154\u001B[0m \u001B[38;5;28;01mdef\u001B[39;00m \u001B[38;5;21mfeature_to_audio\u001B[39m(f, name, config: PreprocessingConfig):\n\u001B[1;32m    155\u001B[0m     \u001B[38;5;28;01mfrom\u001B[39;00m \u001B[38;5;21;01m.\u001B[39;00m\u001B[38;5;21;01mdata\u001B[39;00m\u001B[38;5;21;01m.\u001B[39;00m\u001B[38;5;21;01mcodes\u001B[39;00m \u001B[38;5;28;01mimport\u001B[39;00m mel_codec\n\u001B[0;32m--> 156\u001B[0m     audio_reconstructed \u001B[38;5;241m=\u001B[39m \u001B[43mmel_codec\u001B[49m\u001B[38;5;241;43m.\u001B[39;49m\u001B[43mdecode\u001B[49m\u001B[43m(\u001B[49m\u001B[43mf\u001B[49m\u001B[43m)\u001B[49m\n\u001B[1;32m    158\u001B[0m     \u001B[38;5;28;01mimport\u001B[39;00m \u001B[38;5;21;01msoundfile\u001B[39;00m \u001B[38;5;28;01mas\u001B[39;00m \u001B[38;5;21;01msf\u001B[39;00m\n\u001B[1;32m    159\u001B[0m     \u001B[38;5;66;03m# Save the reconstructed audio\u001B[39;00m\n",
      "File \u001B[0;32m~/autodl-tmp/remixer/core/data/codes.py:56\u001B[0m, in \u001B[0;36mCodec.__init__.<locals>.<lambda>\u001B[0;34m(x)\u001B[0m\n\u001B[1;32m     54\u001B[0m config \u001B[38;5;241m=\u001B[39m PreprocessingConfig()\n\u001B[1;32m     55\u001B[0m \u001B[38;5;28mself\u001B[39m\u001B[38;5;241m.\u001B[39mencode \u001B[38;5;241m=\u001B[39m \u001B[38;5;28;01mlambda\u001B[39;00m x: chain_functions(encodes, x, config)\n\u001B[0;32m---> 56\u001B[0m \u001B[38;5;28mself\u001B[39m\u001B[38;5;241m.\u001B[39mdecode \u001B[38;5;241m=\u001B[39m \u001B[38;5;28;01mlambda\u001B[39;00m x: \u001B[43mchain_functions\u001B[49m\u001B[43m(\u001B[49m\u001B[43mdecodes\u001B[49m\u001B[43m,\u001B[49m\u001B[43m \u001B[49m\u001B[43mx\u001B[49m\u001B[43m,\u001B[49m\u001B[43m \u001B[49m\u001B[43mconfig\u001B[49m\u001B[43m)\u001B[49m\n",
      "File \u001B[0;32m~/autodl-tmp/remixer/core/data/codes.py:12\u001B[0m, in \u001B[0;36mchain_functions\u001B[0;34m(functions, X, config)\u001B[0m\n\u001B[1;32m     11\u001B[0m \u001B[38;5;28;01mdef\u001B[39;00m \u001B[38;5;21mchain_functions\u001B[39m(functions, X, config: PreprocessingConfig):\n\u001B[0;32m---> 12\u001B[0m     \u001B[38;5;28;01mreturn\u001B[39;00m \u001B[43mfunctools\u001B[49m\u001B[38;5;241;43m.\u001B[39;49m\u001B[43mreduce\u001B[49m\u001B[43m(\u001B[49m\u001B[38;5;28;43;01mlambda\u001B[39;49;00m\u001B[43m \u001B[49m\u001B[43macc\u001B[49m\u001B[43m,\u001B[49m\u001B[43m \u001B[49m\u001B[43mfunc\u001B[49m\u001B[43m:\u001B[49m\u001B[43m \u001B[49m\u001B[43mfunc\u001B[49m\u001B[43m(\u001B[49m\u001B[43macc\u001B[49m\u001B[43m,\u001B[49m\u001B[43m \u001B[49m\u001B[43mconfig\u001B[49m\u001B[43m)\u001B[49m\u001B[43m,\u001B[49m\u001B[43m \u001B[49m\u001B[43mfunctions\u001B[49m\u001B[43m,\u001B[49m\u001B[43m \u001B[49m\u001B[43mX\u001B[49m\u001B[43m)\u001B[49m\n",
      "File \u001B[0;32m~/autodl-tmp/remixer/core/data/codes.py:12\u001B[0m, in \u001B[0;36mchain_functions.<locals>.<lambda>\u001B[0;34m(acc, func)\u001B[0m\n\u001B[1;32m     11\u001B[0m \u001B[38;5;28;01mdef\u001B[39;00m \u001B[38;5;21mchain_functions\u001B[39m(functions, X, config: PreprocessingConfig):\n\u001B[0;32m---> 12\u001B[0m     \u001B[38;5;28;01mreturn\u001B[39;00m functools\u001B[38;5;241m.\u001B[39mreduce(\u001B[38;5;28;01mlambda\u001B[39;00m acc, func: \u001B[43mfunc\u001B[49m\u001B[43m(\u001B[49m\u001B[43macc\u001B[49m\u001B[43m,\u001B[49m\u001B[43m \u001B[49m\u001B[43mconfig\u001B[49m\u001B[43m)\u001B[49m, functions, X)\n",
      "File \u001B[0;32m~/autodl-tmp/remixer/core/data/codes.py:35\u001B[0m, in \u001B[0;36mmel_to_audio\u001B[0;34m(S, config)\u001B[0m\n\u001B[1;32m     33\u001B[0m \u001B[38;5;66;03m# Convert Mel-spectrogram to audio\u001B[39;00m\n\u001B[1;32m     34\u001B[0m \u001B[38;5;28;01mfrom\u001B[39;00m \u001B[38;5;21;01mlibrosa\u001B[39;00m\u001B[38;5;21;01m.\u001B[39;00m\u001B[38;5;21;01mfeature\u001B[39;00m\u001B[38;5;21;01m.\u001B[39;00m\u001B[38;5;21;01minverse\u001B[39;00m \u001B[38;5;28;01mimport\u001B[39;00m mel_to_audio\n\u001B[0;32m---> 35\u001B[0m y_reconstructed \u001B[38;5;241m=\u001B[39m \u001B[43mmel_to_audio\u001B[49m\u001B[43m(\u001B[49m\u001B[43mS\u001B[49m\u001B[43m,\u001B[49m\u001B[43m \u001B[49m\u001B[43msr\u001B[49m\u001B[38;5;241;43m=\u001B[39;49m\u001B[43mconfig\u001B[49m\u001B[38;5;241;43m.\u001B[39;49m\u001B[43msr\u001B[49m\u001B[43m)\u001B[49m\n\u001B[1;32m     37\u001B[0m \u001B[38;5;66;03m# Save the reconstructed audio\u001B[39;00m\n\u001B[1;32m     38\u001B[0m sf\u001B[38;5;241m.\u001B[39mwrite(\u001B[38;5;124m'\u001B[39m\u001B[38;5;124mreconstructed_audio.wav\u001B[39m\u001B[38;5;124m'\u001B[39m, y_reconstructed, \u001B[38;5;28mint\u001B[39m(config\u001B[38;5;241m.\u001B[39msr))\n",
      "File \u001B[0;32m~/miniconda3/envs/remixer/lib/python3.9/site-packages/librosa/feature/inverse.py:192\u001B[0m, in \u001B[0;36mmel_to_audio\u001B[0;34m(M, sr, n_fft, hop_length, win_length, window, center, pad_mode, power, n_iter, length, dtype, **kwargs)\u001B[0m\n\u001B[1;32m    126\u001B[0m \u001B[38;5;250m\u001B[39m\u001B[38;5;124;03m\"\"\"Invert a mel power spectrogram to audio using Griffin-Lim.\u001B[39;00m\n\u001B[1;32m    127\u001B[0m \n\u001B[1;32m    128\u001B[0m \u001B[38;5;124;03mThis is primarily a convenience wrapper for:\u001B[39;00m\n\u001B[0;32m   (...)\u001B[0m\n\u001B[1;32m    188\u001B[0m \u001B[38;5;124;03mlibrosa.feature.inverse.mel_to_stft\u001B[39;00m\n\u001B[1;32m    189\u001B[0m \u001B[38;5;124;03m\"\"\"\u001B[39;00m\n\u001B[1;32m    190\u001B[0m stft \u001B[38;5;241m=\u001B[39m mel_to_stft(M, sr\u001B[38;5;241m=\u001B[39msr, n_fft\u001B[38;5;241m=\u001B[39mn_fft, power\u001B[38;5;241m=\u001B[39mpower, \u001B[38;5;241m*\u001B[39m\u001B[38;5;241m*\u001B[39mkwargs)\n\u001B[0;32m--> 192\u001B[0m \u001B[38;5;28;01mreturn\u001B[39;00m \u001B[43mgriffinlim\u001B[49m\u001B[43m(\u001B[49m\n\u001B[1;32m    193\u001B[0m \u001B[43m    \u001B[49m\u001B[43mstft\u001B[49m\u001B[43m,\u001B[49m\n\u001B[1;32m    194\u001B[0m \u001B[43m    \u001B[49m\u001B[43mn_iter\u001B[49m\u001B[38;5;241;43m=\u001B[39;49m\u001B[43mn_iter\u001B[49m\u001B[43m,\u001B[49m\n\u001B[1;32m    195\u001B[0m \u001B[43m    \u001B[49m\u001B[43mhop_length\u001B[49m\u001B[38;5;241;43m=\u001B[39;49m\u001B[43mhop_length\u001B[49m\u001B[43m,\u001B[49m\n\u001B[1;32m    196\u001B[0m \u001B[43m    \u001B[49m\u001B[43mwin_length\u001B[49m\u001B[38;5;241;43m=\u001B[39;49m\u001B[43mwin_length\u001B[49m\u001B[43m,\u001B[49m\n\u001B[1;32m    197\u001B[0m \u001B[43m    \u001B[49m\u001B[43mn_fft\u001B[49m\u001B[38;5;241;43m=\u001B[39;49m\u001B[43mn_fft\u001B[49m\u001B[43m,\u001B[49m\n\u001B[1;32m    198\u001B[0m \u001B[43m    \u001B[49m\u001B[43mwindow\u001B[49m\u001B[38;5;241;43m=\u001B[39;49m\u001B[43mwindow\u001B[49m\u001B[43m,\u001B[49m\n\u001B[1;32m    199\u001B[0m \u001B[43m    \u001B[49m\u001B[43mcenter\u001B[49m\u001B[38;5;241;43m=\u001B[39;49m\u001B[43mcenter\u001B[49m\u001B[43m,\u001B[49m\n\u001B[1;32m    200\u001B[0m \u001B[43m    \u001B[49m\u001B[43mdtype\u001B[49m\u001B[38;5;241;43m=\u001B[39;49m\u001B[43mdtype\u001B[49m\u001B[43m,\u001B[49m\n\u001B[1;32m    201\u001B[0m \u001B[43m    \u001B[49m\u001B[43mlength\u001B[49m\u001B[38;5;241;43m=\u001B[39;49m\u001B[43mlength\u001B[49m\u001B[43m,\u001B[49m\n\u001B[1;32m    202\u001B[0m \u001B[43m    \u001B[49m\u001B[43mpad_mode\u001B[49m\u001B[38;5;241;43m=\u001B[39;49m\u001B[43mpad_mode\u001B[49m\u001B[43m,\u001B[49m\n\u001B[1;32m    203\u001B[0m \u001B[43m\u001B[49m\u001B[43m)\u001B[49m\n",
      "File \u001B[0;32m~/miniconda3/envs/remixer/lib/python3.9/site-packages/librosa/core/spectrum.py:2706\u001B[0m, in \u001B[0;36mgriffinlim\u001B[0;34m(S, n_iter, hop_length, win_length, n_fft, window, center, dtype, length, pad_mode, momentum, init, random_state)\u001B[0m\n\u001B[1;32m   2693\u001B[0m inverse \u001B[38;5;241m=\u001B[39m istft(\n\u001B[1;32m   2694\u001B[0m     angles,\n\u001B[1;32m   2695\u001B[0m     hop_length\u001B[38;5;241m=\u001B[39mhop_length,\n\u001B[0;32m   (...)\u001B[0m\n\u001B[1;32m   2702\u001B[0m     out\u001B[38;5;241m=\u001B[39minverse,\n\u001B[1;32m   2703\u001B[0m )\n\u001B[1;32m   2705\u001B[0m \u001B[38;5;66;03m# Rebuild the spectrogram\u001B[39;00m\n\u001B[0;32m-> 2706\u001B[0m rebuilt \u001B[38;5;241m=\u001B[39m \u001B[43mstft\u001B[49m\u001B[43m(\u001B[49m\n\u001B[1;32m   2707\u001B[0m \u001B[43m    \u001B[49m\u001B[43minverse\u001B[49m\u001B[43m,\u001B[49m\n\u001B[1;32m   2708\u001B[0m \u001B[43m    \u001B[49m\u001B[43mn_fft\u001B[49m\u001B[38;5;241;43m=\u001B[39;49m\u001B[43mn_fft\u001B[49m\u001B[43m,\u001B[49m\n\u001B[1;32m   2709\u001B[0m \u001B[43m    \u001B[49m\u001B[43mhop_length\u001B[49m\u001B[38;5;241;43m=\u001B[39;49m\u001B[43mhop_length\u001B[49m\u001B[43m,\u001B[49m\n\u001B[1;32m   2710\u001B[0m \u001B[43m    \u001B[49m\u001B[43mwin_length\u001B[49m\u001B[38;5;241;43m=\u001B[39;49m\u001B[43mwin_length\u001B[49m\u001B[43m,\u001B[49m\n\u001B[1;32m   2711\u001B[0m \u001B[43m    \u001B[49m\u001B[43mwindow\u001B[49m\u001B[38;5;241;43m=\u001B[39;49m\u001B[43mwindow\u001B[49m\u001B[43m,\u001B[49m\n\u001B[1;32m   2712\u001B[0m \u001B[43m    \u001B[49m\u001B[43mcenter\u001B[49m\u001B[38;5;241;43m=\u001B[39;49m\u001B[43mcenter\u001B[49m\u001B[43m,\u001B[49m\n\u001B[1;32m   2713\u001B[0m \u001B[43m    \u001B[49m\u001B[43mpad_mode\u001B[49m\u001B[38;5;241;43m=\u001B[39;49m\u001B[43mpad_mode\u001B[49m\u001B[43m,\u001B[49m\n\u001B[1;32m   2714\u001B[0m \u001B[43m    \u001B[49m\u001B[43mout\u001B[49m\u001B[38;5;241;43m=\u001B[39;49m\u001B[43mrebuilt\u001B[49m\u001B[43m,\u001B[49m\n\u001B[1;32m   2715\u001B[0m \u001B[43m\u001B[49m\u001B[43m)\u001B[49m\n\u001B[1;32m   2717\u001B[0m \u001B[38;5;66;03m# Update our phase estimates\u001B[39;00m\n\u001B[1;32m   2718\u001B[0m angles[:] \u001B[38;5;241m=\u001B[39m rebuilt\n",
      "File \u001B[0;32m~/miniconda3/envs/remixer/lib/python3.9/site-packages/librosa/core/spectrum.py:230\u001B[0m, in \u001B[0;36mstft\u001B[0;34m(y, n_fft, hop_length, win_length, window, center, dtype, pad_mode, out)\u001B[0m\n\u001B[1;32m    227\u001B[0m     \u001B[38;5;28;01mraise\u001B[39;00m ParameterError(\u001B[38;5;124mf\u001B[39m\u001B[38;5;124m\"\u001B[39m\u001B[38;5;124mhop_length=\u001B[39m\u001B[38;5;132;01m{\u001B[39;00mhop_length\u001B[38;5;132;01m}\u001B[39;00m\u001B[38;5;124m must be a positive integer\u001B[39m\u001B[38;5;124m\"\u001B[39m)\n\u001B[1;32m    229\u001B[0m \u001B[38;5;66;03m# Check audio is valid\u001B[39;00m\n\u001B[0;32m--> 230\u001B[0m \u001B[43mutil\u001B[49m\u001B[38;5;241;43m.\u001B[39;49m\u001B[43mvalid_audio\u001B[49m\u001B[43m(\u001B[49m\u001B[43my\u001B[49m\u001B[43m,\u001B[49m\u001B[43m \u001B[49m\u001B[43mmono\u001B[49m\u001B[38;5;241;43m=\u001B[39;49m\u001B[38;5;28;43;01mFalse\u001B[39;49;00m\u001B[43m)\u001B[49m\n\u001B[1;32m    232\u001B[0m fft_window \u001B[38;5;241m=\u001B[39m get_window(window, win_length, fftbins\u001B[38;5;241m=\u001B[39m\u001B[38;5;28;01mTrue\u001B[39;00m)\n\u001B[1;32m    234\u001B[0m \u001B[38;5;66;03m# Pad the window out to n_fft size\u001B[39;00m\n",
      "File \u001B[0;32m~/miniconda3/envs/remixer/lib/python3.9/site-packages/librosa/util/utils.py:314\u001B[0m, in \u001B[0;36mvalid_audio\u001B[0;34m(y, mono)\u001B[0m\n\u001B[1;32m    309\u001B[0m     \u001B[38;5;28;01mraise\u001B[39;00m ParameterError(\n\u001B[1;32m    310\u001B[0m         \u001B[38;5;124mf\u001B[39m\u001B[38;5;124m\"\u001B[39m\u001B[38;5;124mInvalid shape for monophonic audio: ndim=\u001B[39m\u001B[38;5;132;01m{\u001B[39;00my\u001B[38;5;241m.\u001B[39mndim\u001B[38;5;132;01m:\u001B[39;00m\u001B[38;5;124md\u001B[39m\u001B[38;5;132;01m}\u001B[39;00m\u001B[38;5;124m, shape=\u001B[39m\u001B[38;5;132;01m{\u001B[39;00my\u001B[38;5;241m.\u001B[39mshape\u001B[38;5;132;01m}\u001B[39;00m\u001B[38;5;124m\"\u001B[39m\n\u001B[1;32m    311\u001B[0m     )\n\u001B[1;32m    313\u001B[0m \u001B[38;5;28;01mif\u001B[39;00m \u001B[38;5;129;01mnot\u001B[39;00m np\u001B[38;5;241m.\u001B[39misfinite(y)\u001B[38;5;241m.\u001B[39mall():\n\u001B[0;32m--> 314\u001B[0m     \u001B[38;5;28;01mraise\u001B[39;00m ParameterError(\u001B[38;5;124m\"\u001B[39m\u001B[38;5;124mAudio buffer is not finite everywhere\u001B[39m\u001B[38;5;124m\"\u001B[39m)\n\u001B[1;32m    316\u001B[0m \u001B[38;5;28;01mreturn\u001B[39;00m \u001B[38;5;28;01mTrue\u001B[39;00m\n",
      "\u001B[0;31mParameterError\u001B[0m: Audio buffer is not finite everywhere"
     ]
    }
   ],
   "source": [
    "config = TrainingConfig()\n",
    "from test_model import *\n",
    "import gc\n",
    "\n",
    "# wandb.init()\n",
    "S, img = generate_from_genre('jazz',\n",
    "                             vae_path='/root/autodl-tmp/remixer/training/artifacts/AutoencoderKL:v1/model_epoch_0.pth',\n",
    "                             generator_path='/root/autodl-tmp/remixer/training/artifacts/VQGenerator:v1/model_epoch_0.pth')\n",
    "\n",
    "make_grid([img], 1)\n",
    "gc.collect()"
   ],
   "metadata": {
    "collapsed": false,
    "ExecuteTime": {
     "end_time": "2023-12-02T13:45:39.883824Z",
     "start_time": "2023-12-02T13:45:31.163058Z"
    }
   },
   "id": "1357553b6109b04a"
  },
  {
   "cell_type": "code",
   "execution_count": null,
   "outputs": [],
   "source": [],
   "metadata": {
    "collapsed": false
   },
   "id": "5c71ee0f5313d2b5"
  }
 ],
 "metadata": {
  "kernelspec": {
   "display_name": "Python 3",
   "language": "python",
   "name": "python3"
  },
  "language_info": {
   "codemirror_mode": {
    "name": "ipython",
    "version": 2
   },
   "file_extension": ".py",
   "mimetype": "text/x-python",
   "name": "python",
   "nbconvert_exporter": "python",
   "pygments_lexer": "ipython2",
   "version": "2.7.6"
  }
 },
 "nbformat": 4,
 "nbformat_minor": 5
}
